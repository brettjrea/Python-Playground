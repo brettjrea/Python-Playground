{
 "cells": [
  {
   "cell_type": "code",
   "execution_count": 4,
   "metadata": {},
   "outputs": [],
   "source": [
    "import networkx as nx"
   ]
  },
  {
   "cell_type": "code",
   "execution_count": 5,
   "metadata": {},
   "outputs": [],
   "source": [
    "graph = nx.Graph()\n",
    "graph.add_nodes_from(['A', 'B', 'C', 'D', 'E', 'F', 'G', 'H', 'I'])\n",
    "graph.add_edges_from([('A', 'B'), ('B', 'E'), ('A', 'E')]) #component 1\n",
    "graph.add_edges_from([('C', 'D'), ('D', 'H'), ('H', 'F'), ('F', 'C')]) #component 2\n",
    "graph.add_edge('G','I') #component 3"
   ]
  },
  {
   "cell_type": "code",
   "execution_count": 6,
   "metadata": {},
   "outputs": [
    {
     "data": {
      "image/png": "[encoded data removed]",
      "text/plain": [
       "<Figure size 640x480 with 1 Axes>"
      ]
     },
     "metadata": {},
     "output_type": "display_data"
    }
   ],
   "source": [
    "import matplotlib.pyplot as plt\n",
    "nx.draw(graph, with_labels=True, font_weight='bold')\n",
    "plt.show()"
   ]
  },
  {
   "cell_type": "code",
   "execution_count": 9,
   "metadata": {},
   "outputs": [],
   "source": [
    "def find_connected_components(graph):\n",
    "       visited = []\n",
    "       connected_components = []\n",
    "       for node in graph.nodes:\n",
    "           if node not in visited:\n",
    "               cc = [] #connected component\n",
    "               visited, cc = dfs_traversal(graph, node, visited, cc)\n",
    "               connected_components.append(cc)\n",
    "       return connected_components\n",
    "def dfs_traversal(graph, start, visited, path):\n",
    "       if start in visited:\n",
    "           return visited, path\n",
    "       visited.append(start)\n",
    "       path.append(start)\n",
    "       for node in graph.neighbors(start):\n",
    "           visited, path = dfs_traversal(graph, node, visited, path)\n",
    "       return visited, path"
   ]
  },
  {
   "cell_type": "code",
   "execution_count": 10,
   "metadata": {},
   "outputs": [
    {
     "name": "stdout",
     "output_type": "stream",
     "text": [
      "Total number of connected components = 3\n",
      "['A', 'B', 'E']\n",
      "['C', 'D', 'H', 'F']\n",
      "['G', 'I']\n"
     ]
    }
   ],
   "source": [
    "connected_components = find_connected_components(graph)\n",
    "print(\"Total number of connected components =\", len(connected_components))\n",
    "for cc in connected_components:\n",
    "    print(cc)"
   ]
  }
 ],
 "metadata": {
  "kernelspec": {
   "display_name": "Python 3.10.4 64-bit",
   "language": "python",
   "name": "python3"
  },
  "language_info": {
   "codemirror_mode": {
    "name": "ipython",
    "version": 3
   },
   "file_extension": ".py",
   "mimetype": "text/x-python",
   "name": "python",
   "nbconvert_exporter": "python",
   "pygments_lexer": "ipython3",
   "version": "3.10.4"
  },
  "orig_nbformat": 4,
  "vscode": {
   "interpreter": {
    "hash": "3ad933181bd8a04b432d3370b9dc3b0662ad032c4dfaa4e4f1596c548f763858"
   }
  }
 },
 "nbformat": 4,
 "nbformat_minor": 2
}
