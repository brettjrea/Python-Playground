{
 "cells": [
  {
   "cell_type": "code",
   "execution_count": 1,
   "metadata": {},
   "outputs": [],
   "source": [
    "import networkx as nx"
   ]
  },
  {
   "cell_type": "code",
   "execution_count": 2,
   "metadata": {},
   "outputs": [],
   "source": [
    "dag = nx.digraph.DiGraph()\n",
    "dag.add_nodes_from(['A', 'B', 'C', 'D', 'E', 'F', 'G', 'H', 'I'])\n",
    "dag.add_edges_from([('A', 'B'), ('A', 'E'), ('B', 'D'), ('E', 'C'),\n",
    "                      ('D', 'G'),('C', 'G'),('C', 'I'), ('F', 'I')])"
   ]
  },
  {
   "cell_type": "code",
   "execution_count": 3,
   "metadata": {},
   "outputs": [],
   "source": [
    "def dfs(dag, start, visited, stack):\n",
    "       if start in visited:\n",
    "           # node and all its branches have been visited\n",
    "           return stack, visited\n",
    "       if dag.out_degree(start) == 0:\n",
    "           # if leaf node, push and backtrack\n",
    "           stack.append(start)\n",
    "           visited.append(start)\n",
    "           return stack, visited\n",
    "       #traverse all the branches\n",
    "       for node in dag.neighbors(start):\n",
    "           if node in visited:\n",
    "               continue\n",
    "           stack, visited = dfs(dag, node, visited, stack)\n",
    "       #now, push the node if not already visited\n",
    "       if start not in visited:\n",
    "           print(\"pushing %s\"%start)\n",
    "           stack.append(start)\n",
    "           visited.append(start)\n",
    "       return stack, visited\n",
    "def topological_sort_using_dfs(dag):\n",
    "       visited = []\n",
    "       stack=[]\n",
    "       start_nodes = [i for i in dag.nodes if dag.in_degree(i)==0]\n",
    "   #     print(start_nodes)\n",
    "       for s in start_nodes:\n",
    "           stack, visited = dfs(dag, s, visited, stack)\n",
    "       print(\"Topological sorted:\")\n",
    "       while(len(stack)!=0):\n",
    "           print(stack.pop(), end=\" \")"
   ]
  },
  {
   "cell_type": "code",
   "execution_count": 4,
   "metadata": {},
   "outputs": [
    {
     "name": "stdout",
     "output_type": "stream",
     "text": [
      "pushing D\n",
      "pushing B\n",
      "pushing C\n",
      "pushing E\n",
      "pushing A\n",
      "pushing F\n",
      "Topological sorted:\n",
      "H F A E C I B D G "
     ]
    }
   ],
   "source": [
    "topological_sort_using_dfs(dag)"
   ]
  },
  {
   "cell_type": "code",
   "execution_count": 5,
   "metadata": {},
   "outputs": [
    {
     "name": "stdout",
     "output_type": "stream",
     "text": [
      "A F H B E D C G I "
     ]
    }
   ],
   "source": [
    "topological_sorting = nx.topological_sort(dag)\n",
    "for n in topological_sorting:\n",
    "    print(n, end=' ')"
   ]
  }
 ],
 "metadata": {
  "kernelspec": {
   "display_name": "Python 3.10.4 64-bit",
   "language": "python",
   "name": "python3"
  },
  "language_info": {
   "codemirror_mode": {
    "name": "ipython",
    "version": 3
   },
   "file_extension": ".py",
   "mimetype": "text/x-python",
   "name": "python",
   "nbconvert_exporter": "python",
   "pygments_lexer": "ipython3",
   "version": "3.10.4"
  },
  "orig_nbformat": 4,
  "vscode": {
   "interpreter": {
    "hash": "3ad933181bd8a04b432d3370b9dc3b0662ad032c4dfaa4e4f1596c548f763858"
   }
  }
 },
 "nbformat": 4,
 "nbformat_minor": 2
}
