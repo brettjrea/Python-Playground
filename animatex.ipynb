{
 "cells": [
  {
   "cell_type": "markdown",
   "metadata": {},
   "source": [
    "directed graph with random edge weights\n",
    "___"
   ]
  },
  {
   "cell_type": "code",
   "execution_count": 2,
   "metadata": {},
   "outputs": [
    {
     "data": {
      "application/vnd.jupyter.widget-view+json": {
       "model_id": "190f11988e1e45b19c71c4d97c075c13",
       "version_major": 2,
       "version_minor": 0
      },
      "text/plain": [
       "JupyterWidget(events=['{\"attrs\": {\"nodes\": {\"0\": {}, \"1\": {}, \"2\": {}, \"3\": {}, \"4\": {}, \"5\": {}, \"6\": {}, \"7\"…"
      ]
     },
     "metadata": {},
     "output_type": "display_data"
    }
   ],
   "source": [
    "import algorithmx\n",
    "import networkx as nx\n",
    "from random import randint\n",
    "\n",
    "canvas = algorithmx.jupyter_canvas()\n",
    "\n",
    "# Create a directed graph\n",
    "G = nx.circular_ladder_graph(5).to_directed()\n",
    "# Randomize edge weights\n",
    "nx.set_edge_attributes(G, {e: {'weight': randint(1, 9)} for e in G.edges})\n",
    "\n",
    "# Add nodes\n",
    "canvas.nodes(G.nodes).add()\n",
    "\n",
    "# Add directed edges with weight labels\n",
    "canvas.edges(G.edges).add().directed(True) \\\n",
    "    .label().text(lambda e: G.edges[e]['weight'])\n",
    "\n",
    "canvas"
   ]
  },
  {
   "cell_type": "markdown",
   "metadata": {},
   "source": [
    "___\n",
    "breadth-first search, and AlgorithmX to animate it."
   ]
  },
  {
   "cell_type": "code",
   "execution_count": 16,
   "metadata": {},
   "outputs": [
    {
     "data": {
      "application/vnd.jupyter.widget-view+json": {
       "model_id": "5cdeaef4be9c405e980afe1cb540021a",
       "version_major": 2,
       "version_minor": 0
      },
      "text/plain": [
       "JupyterWidget(events=['{\"attrs\": {\"size\": [500, 400]}}', '{\"attrs\": {\"nodes\": {\"0\": {}, \"1\": {}, \"2\": {}, \"3\":…"
      ]
     },
     "metadata": {},
     "output_type": "display_data"
    }
   ],
   "source": [
    "canvas = algorithmx.jupyter_canvas(buttons=True)\n",
    "canvas.size((500, 400))\n",
    "\n",
    "# Generate a 'caveman' graph with 3 cliques of size 4\n",
    "G = nx.connected_caveman_graph(3, 4)\n",
    "\n",
    "# Add nodes and edges\n",
    "canvas.nodes(G.nodes).add()\n",
    "canvas.edges(G.edges).add()\n",
    "canvas.pause(1)\n",
    "\n",
    "# Traverse the graph using breadth-first search\n",
    "bfs = nx.edge_bfs(G, 0)\n",
    "\n",
    "# Animate traversal\n",
    "source = None\n",
    "for e in bfs:\n",
    "    if e[0] != source:\n",
    "        # Make the new source large\n",
    "        canvas.node(e[0]).size('1.25x').color('purple')\n",
    "        # Make the previous source small again\n",
    "        if source is not None:\n",
    "            canvas.node(source).size('0.8x')\n",
    "        # Update source node\n",
    "        source = e[0]\n",
    "        canvas.pause(0.5)\n",
    "\n",
    "    # Traverse edges\n",
    "   # canvas.edge(e).traverse().color('pink')\n",
    "    canvas.pause(0.5)\n",
    "\n",
    "# Make the remaining source small again\n",
    "canvas.node(source).size('0.8x')\n",
    "\n",
    "canvas"
   ]
  },
  {
   "cell_type": "markdown",
   "metadata": {},
   "source": [
    "shortest path on a random graph using Dijkstra’s algorithm."
   ]
  },
  {
   "cell_type": "code",
   "execution_count": 3,
   "metadata": {},
   "outputs": [
    {
     "data": {
      "application/vnd.jupyter.widget-view+json": {
       "model_id": "9e187d4ad9644317ad4edecb02d8d3b0",
       "version_major": 2,
       "version_minor": 0
      },
      "text/plain": [
       "JupyterWidget(events=['{\"attrs\": {\"size\": [500, 400]}}', '{\"attrs\": {\"nodes\": {\"0\": {}, \"1\": {}, \"2\": {}, \"3\":…"
      ]
     },
     "metadata": {},
     "output_type": "display_data"
    }
   ],
   "source": [
    "import random\n",
    "random.seed(436)\n",
    "\n",
    "canvas = algorithmx.jupyter_canvas(buttons=True)\n",
    "canvas.size((500, 400))\n",
    "\n",
    "# Generate random graph with random edge weights\n",
    "G = nx.newman_watts_strogatz_graph(16, 2, 0.4, seed=537)\n",
    "nx.set_edge_attributes(G, {e: randint(1, 20) for e in G.edges}, 'weight')\n",
    "\n",
    "# Add nodes and edges with weight labels\n",
    "canvas.nodes(G.nodes).add()\n",
    "canvas.edges(G.edges).add().label().text(lambda e: G.edges[e]['weight'])\n",
    "canvas.pause(1)\n",
    "\n",
    "# Select source and target\n",
    "source = 0\n",
    "target = 8\n",
    "canvas.node(source).color('green').highlight().size('1.25x')\n",
    "canvas.node(target).color('red').highlight().size('1.25x')\n",
    "canvas.pause(1.5)\n",
    "\n",
    "# Run Dijkstra's shortest path algorithm\n",
    "path = nx.dijkstra_path(G, source, target)\n",
    "\n",
    "# Animate the algorithm\n",
    "path_length = 0\n",
    "for i in range(len(path) - 1):\n",
    "    u, v = path[i], path[i + 1]\n",
    "\n",
    "    # Update path length\n",
    "    path_length += G[u][v]['weight']\n",
    "\n",
    "    # Traverse edge\n",
    "    #canvas.edge((u, v)).traverse().color('blue')\n",
    "    canvas.pause(0.4)\n",
    "\n",
    "    # Make the next node blue, unless it's the target\n",
    "    if v != target:\n",
    "        canvas.node(v).color('blue')\n",
    "\n",
    "    # Add a label to indicate current path length\n",
    "    canvas.node(v).label('path').add().color('blue').text(path_length)\n",
    "    canvas.pause(0.4)\n",
    "\n",
    "canvas"
   ]
  }
 ],
 "metadata": {
  "kernelspec": {
   "display_name": "Python 3.10.4 64-bit",
   "language": "python",
   "name": "python3"
  },
  "language_info": {
   "codemirror_mode": {
    "name": "ipython",
    "version": 3
   },
   "file_extension": ".py",
   "mimetype": "text/x-python",
   "name": "python",
   "nbconvert_exporter": "python",
   "pygments_lexer": "ipython3",
   "version": "3.10.4"
  },
  "orig_nbformat": 4,
  "vscode": {
   "interpreter": {
    "hash": "3ad933181bd8a04b432d3370b9dc3b0662ad032c4dfaa4e4f1596c548f763858"
   }
  }
 },
 "nbformat": 4,
 "nbformat_minor": 2
}
